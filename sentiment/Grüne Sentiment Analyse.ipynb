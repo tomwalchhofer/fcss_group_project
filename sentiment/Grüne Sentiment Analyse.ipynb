{
 "cells": [
  {
   "cell_type": "code",
   "execution_count": 1,
   "metadata": {},
   "outputs": [],
   "source": [
    "import pandas as pd\n",
    "from scipy.stats import ttest_ind\n",
    "import numpy as np\n",
    "import matplotlib.pyplot as plt"
   ]
  },
  {
   "cell_type": "code",
   "execution_count": 4,
   "metadata": {},
   "outputs": [],
   "source": [
    "# Lade das Datenset\n",
    "# Tausche hier die Daten aus\n",
    "partei_datensatz = pd.read_csv(\"gruene.csv\")\n",
    "partei_name = \"Grüne\"\n",
    "Angelobung_Datum = \"2020-01-07\"\n",
    "\n",
    "\n",
    "# Teste ob die Daten funktionieren\n",
    "datensatz_kurz = partei_datensatz[1000:1005]\n",
    "#print(datensatz_kurz[\"Inhalt\"][1])"
   ]
  },
  {
   "cell_type": "code",
   "execution_count": 5,
   "metadata": {},
   "outputs": [
    {
     "name": "stdout",
     "output_type": "stream",
     "text": [
      "2020-01-07 00:00:00\n"
     ]
    }
   ],
   "source": [
    "angelobung = pd.to_datetime(Angelobung_Datum)\n",
    "print(angelobung)"
   ]
  },
  {
   "cell_type": "code",
   "execution_count": 172,
   "metadata": {},
   "outputs": [],
   "source": [
    "# Installiere wenn du ihn noch nicht hast, den Sentiment analyser\n",
    "#pip install germansentiment"
   ]
  },
  {
   "cell_type": "code",
   "execution_count": 6,
   "metadata": {},
   "outputs": [
    {
     "name": "stderr",
     "output_type": "stream",
     "text": [
      "c:\\Users\\Clemens Schweizer\\AppData\\Local\\Programs\\Python\\Python310\\lib\\site-packages\\tqdm\\auto.py:21: TqdmWarning: IProgress not found. Please update jupyter and ipywidgets. See https://ipywidgets.readthedocs.io/en/stable/user_install.html\n",
      "  from .autonotebook import tqdm as notebook_tqdm\n"
     ]
    }
   ],
   "source": [
    "from germansentiment import SentimentModel\n"
   ]
  },
  {
   "cell_type": "code",
   "execution_count": 7,
   "metadata": {},
   "outputs": [],
   "source": [
    "model = SentimentModel()"
   ]
  },
  {
   "cell_type": "code",
   "execution_count": 8,
   "metadata": {},
   "outputs": [],
   "source": [
    "# Definiere die Funktion zur Berechnung des Scores\n",
    "\n",
    "def sentiment_calculator(text):\n",
    "    classes, probabilities = model.predict_sentiment([text], output_probabilities = True)\n",
    "    # Berechnet einen Wert zwischen 1 und 3, wobei 3 sehr positiv ist und 1 sehr negativ.\n",
    "    # Da uns das deutsche Sentiment Package nur die WSK gibt, habe ich daraus einen score kalkuliert.\n",
    "    # 3 ist nur positiv, 2 ist komplett neutral, 1 ist komplett negativ\n",
    "    score_zw_1_und_3 = (probabilities[0][0][1])*3+(probabilities[0][1][1])*1+(probabilities[0][2][1])*2\n",
    "    # positive_wsk*3 + neutrale_wsk*2 + negative_wsk)*1\n",
    "    return score_zw_1_und_3"
   ]
  },
  {
   "cell_type": "code",
   "execution_count": 9,
   "metadata": {},
   "outputs": [
    {
     "name": "stdout",
     "output_type": "stream",
     "text": [
      "                                                  Titel  Sentiment Score  \\\n",
      "0     Grüne unterstützen WWF-Appell für Öko-Steuerre...         1.982245   \n",
      "1     Kogler: Bei Mindestsicherungs-Chaos sofort vol...         1.065928   \n",
      "2     AVISO: Montag, 14.1., 10.30h: PK Hebein/Kogler...         1.999191   \n",
      "3     AVISO: Freitag, 18.1., 9.30 Uhr: PK Kogler anl...         1.999022   \n",
      "4     Waitz: Glyphosat-Bewertung stammt zum Teil von...         1.998283   \n",
      "...                                                 ...              ...   \n",
      "1321  Grüne/Litschauer: AKW Krško ist weiterhin eine...         1.993590   \n",
      "1322          Kogler und Stoytchev danken Birgit Hebein         1.997644   \n",
      "1323  Grüne begrüßen britische Ablehnung des US-Ausl...         1.984869   \n",
      "1324  Grüne/Weratschnig: Lehren aus der Covid-Krise ...         1.997587   \n",
      "1325  Ernst-Dziedzic zu Washington-Krawallen: Freie ...         1.206881   \n",
      "\n",
      "                    Datum  \n",
      "0     2019-01-09 11:05:35  \n",
      "1     2019-01-10 13:23:39  \n",
      "2     2019-01-11 10:26:30  \n",
      "3     2019-01-11 11:11:01  \n",
      "4     2019-01-15 09:49:43  \n",
      "...                   ...  \n",
      "1321  2020-12-30 10:25:19  \n",
      "1322  2020-12-30 12:00:09  \n",
      "1323  2021-01-04 14:56:57  \n",
      "1324  2021-01-05 12:19:08  \n",
      "1325  2021-01-07 09:35:35  \n",
      "\n",
      "[1326 rows x 3 columns]\n"
     ]
    }
   ],
   "source": [
    "# Speichert den Score in einer neuen Zeile\n",
    "datensatz_kurz\n",
    "#partei_datensatz[\"Sentiment Score\"]=partei_datensatz[\"Inhalt\"].apply(sentiment_calculator)\n",
    "partei_datensatz[\"Sentiment Score\"]=partei_datensatz[\"Inhalt\"].apply(sentiment_calculator)\n",
    "\n",
    "\n",
    "print(partei_datensatz[[\"Titel\",\"Sentiment Score\",\"Datum\"]])"
   ]
  },
  {
   "cell_type": "code",
   "execution_count": 10,
   "metadata": {},
   "outputs": [
    {
     "name": "stdout",
     "output_type": "stream",
     "text": [
      "                    Datum                                              Titel  \\\n",
      "0     2019-01-09 11:05:35  Grüne unterstützen WWF-Appell für Öko-Steuerre...   \n",
      "1     2019-01-10 13:23:39  Kogler: Bei Mindestsicherungs-Chaos sofort vol...   \n",
      "2     2019-01-11 10:26:30  AVISO: Montag, 14.1., 10.30h: PK Hebein/Kogler...   \n",
      "3     2019-01-11 11:11:01  AVISO: Freitag, 18.1., 9.30 Uhr: PK Kogler anl...   \n",
      "4     2019-01-15 09:49:43  Waitz: Glyphosat-Bewertung stammt zum Teil von...   \n",
      "...                   ...                                                ...   \n",
      "1321  2020-12-30 10:25:19  Grüne/Litschauer: AKW Krško ist weiterhin eine...   \n",
      "1322  2020-12-30 12:00:09          Kogler und Stoytchev danken Birgit Hebein   \n",
      "1323  2021-01-04 14:56:57  Grüne begrüßen britische Ablehnung des US-Ausl...   \n",
      "1324  2021-01-05 12:19:08  Grüne/Weratschnig: Lehren aus der Covid-Krise ...   \n",
      "1325  2021-01-07 09:35:35  Ernst-Dziedzic zu Washington-Krawallen: Freie ...   \n",
      "\n",
      "                                                 Teaser  \\\n",
      "0     Kogler: Regierung sollte Wissenschafterinnen u...   \n",
      "1     Grüne: Regierung zielt bewusst auf Kinder und ...   \n",
      "2     Wien (OTS) - Einladung zur Pressekonferenz der...   \n",
      "3     Wien (OTS) - Einladung zur Pressekonferenz der...   \n",
      "4     Plagiatstudie legt nahe, dass Bewertung im Int...   \n",
      "...                                                 ...   \n",
      "1321  Das Atomkraftwerk muss nach Erdbeben endgültig...   \n",
      "1322  „Hebein hat Klimaschutz- & Sozialpolitik in be...   \n",
      "1323  Ewa Ernst-Dziedzic: Weitergehende Maßnahmen zu...   \n",
      "1324  2020 wurden 1,8 Milliarden Liter weniger Treib...   \n",
      "1325  Grüne verurteilen gewaltsame Stürmung des Kapi...   \n",
      "\n",
      "                                                   Link  \\\n",
      "0     https://www.ots.at/presseaussendung/OTS_201901...   \n",
      "1     https://www.ots.at/presseaussendung/OTS_201901...   \n",
      "2     https://www.ots.at/presseaussendung/OTS_201901...   \n",
      "3     https://www.ots.at/presseaussendung/OTS_201901...   \n",
      "4     https://www.ots.at/presseaussendung/OTS_201901...   \n",
      "...                                                 ...   \n",
      "1321  https://www.ots.at/presseaussendung/OTS_202012...   \n",
      "1322  https://www.ots.at/presseaussendung/OTS_202012...   \n",
      "1323  https://www.ots.at/presseaussendung/OTS_202101...   \n",
      "1324  https://www.ots.at/presseaussendung/OTS_202101...   \n",
      "1325  https://www.ots.at/presseaussendung/OTS_202101...   \n",
      "\n",
      "                                                 Inhalt Partei  \\\n",
      "0     Kogler: Regierung sollte Wissenschafterinnen u...  Grüne   \n",
      "1     Grüne: Regierung zielt bewusst auf Kinder und ...  Grüne   \n",
      "2     Wien (OTS) - Einladung zur Pressekonferenz der...  Grüne   \n",
      "3     Wien (OTS) - Einladung zur Pressekonferenz der...  Grüne   \n",
      "4     Plagiatstudie legt nahe, dass Bewertung im Int...  Grüne   \n",
      "...                                                 ...    ...   \n",
      "1321  Das Atomkraftwerk muss nach Erdbeben endgültig...  Grüne   \n",
      "1322  „Hebein hat Klimaschutz- & Sozialpolitik in be...  Grüne   \n",
      "1323  Ewa Ernst-Dziedzic: Weitergehende Maßnahmen zu...  Grüne   \n",
      "1324  2020 wurden 1,8 Milliarden Liter weniger Treib...  Grüne   \n",
      "1325  Grüne verurteilen gewaltsame Stürmung des Kapi...  Grüne   \n",
      "\n",
      "      Sentiment Score  Nach Angelobung  \n",
      "0            1.982245                0  \n",
      "1            1.065928                0  \n",
      "2            1.999191                0  \n",
      "3            1.999022                0  \n",
      "4            1.998283                0  \n",
      "...               ...              ...  \n",
      "1321         1.993590                1  \n",
      "1322         1.997644                1  \n",
      "1323         1.984869                1  \n",
      "1324         1.997587                1  \n",
      "1325         1.206881                1  \n",
      "\n",
      "[1326 rows x 8 columns]\n"
     ]
    }
   ],
   "source": [
    "# Schaut, ob der Tag vor oder nach der Angelobung liegt\n",
    "\n",
    "def datums_checker(veröffentlichungs_datum):\n",
    "    kurzes_datum =pd.to_datetime(veröffentlichungs_datum[:10])\n",
    "    if kurzes_datum > angelobung:\n",
    "        return 1\n",
    "    else:\n",
    "        return 0\n",
    "    \n",
    "\n",
    "partei_datensatz[\"Nach Angelobung\"]=partei_datensatz[\"Datum\"].apply(datums_checker)\n",
    "\n",
    "print(partei_datensatz)"
   ]
  },
  {
   "cell_type": "code",
   "execution_count": 11,
   "metadata": {},
   "outputs": [
    {
     "data": {
      "text/plain": [
       "0       1.982245\n",
       "1       1.065928\n",
       "2       1.999191\n",
       "3       1.999022\n",
       "4       1.998283\n",
       "          ...   \n",
       "1321    1.993590\n",
       "1322    1.997644\n",
       "1323    1.984869\n",
       "1324    1.997587\n",
       "1325    1.206881\n",
       "Name: Sentiment Score, Length: 1326, dtype: float64"
      ]
     },
     "execution_count": 11,
     "metadata": {},
     "output_type": "execute_result"
    }
   ],
   "source": [
    "partei_datensatz[\"Sentiment Score\"]\n"
   ]
  },
  {
   "cell_type": "code",
   "execution_count": 13,
   "metadata": {},
   "outputs": [
    {
     "name": "stdout",
     "output_type": "stream",
     "text": [
      "1.7992115683702632\n",
      "0.3361972395649533\n",
      "384\n",
      "1.9288838337935577\n",
      "0.20952869284628162\n",
      "942\n",
      "Grüne Durchschnitt vor der Angelobung: 1.7992115683702632\n",
      "Grüne Durchschnitt nach der Angelobung: 1.9288838337935577\n"
     ]
    }
   ],
   "source": [
    "# Berechne den Durchschnitt vor der Angelobung\n",
    "vor_angelobung_avg = partei_datensatz[partei_datensatz[\"Nach Angelobung\"] == 0][\"Sentiment Score\"].mean()\n",
    "print(vor_angelobung_avg)\n",
    "\n",
    "vor_angelobung_std = partei_datensatz[partei_datensatz[\"Nach Angelobung\"] == 0][\"Sentiment Score\"].std()\n",
    "print(vor_angelobung_std)\n",
    "\n",
    "vor_angelobung_len = len(partei_datensatz[partei_datensatz[\"Nach Angelobung\"] == 0])\n",
    "print(vor_angelobung_len)\n",
    "\n",
    "\n",
    "# Berechne den Durschnitt nach der Angelobung\n",
    "nach_angelobung_avg = partei_datensatz[partei_datensatz[\"Nach Angelobung\"] == 1][\"Sentiment Score\"].mean()\n",
    "print(nach_angelobung_avg)\n",
    "\n",
    "nach_angelobung_std = partei_datensatz[partei_datensatz[\"Nach Angelobung\"] == 1][\"Sentiment Score\"].std()\n",
    "print(nach_angelobung_std)\n",
    "\n",
    "nach_angelobung_len = len(partei_datensatz[partei_datensatz[\"Nach Angelobung\"] == 1])\n",
    "print(nach_angelobung_len)\n",
    "\n",
    "print(f\"{partei_name} Durchschnitt vor der Angelobung: {vor_angelobung_avg}\")\n",
    "print(f\"{partei_name} Durchschnitt nach der Angelobung: {nach_angelobung_avg}\")"
   ]
  },
  {
   "cell_type": "code",
   "execution_count": 15,
   "metadata": {},
   "outputs": [
    {
     "name": "stdout",
     "output_type": "stream",
     "text": [
      "T-Wert: -6.790, p-Wert: 0.0000000000\n"
     ]
    }
   ],
   "source": [
    "# Berechne den t-test\n",
    "group1 = np.random.normal(vor_angelobung_avg, vor_angelobung_std, vor_angelobung_len)\n",
    "group2 = np.random.normal(nach_angelobung_avg, nach_angelobung_std, nach_angelobung_len)\n",
    "\n",
    "# t-Test durchführen\n",
    "t_stat, p_value = ttest_ind(group1, group2, equal_var=False)  # Welch's t-test (ungleiche Varianzen)\n",
    "print(f\"T-Wert: {t_stat:.3f}, p-Wert: {p_value:.10f}\")"
   ]
  },
  {
   "cell_type": "code",
   "execution_count": 16,
   "metadata": {},
   "outputs": [
    {
     "name": "stdout",
     "output_type": "stream",
     "text": [
      "                    Datum                                              Titel  \\\n",
      "0     2019-01-09 11:05:35  Grüne unterstützen WWF-Appell für Öko-Steuerre...   \n",
      "1     2019-01-10 13:23:39  Kogler: Bei Mindestsicherungs-Chaos sofort vol...   \n",
      "2     2019-01-11 10:26:30  AVISO: Montag, 14.1., 10.30h: PK Hebein/Kogler...   \n",
      "3     2019-01-11 11:11:01  AVISO: Freitag, 18.1., 9.30 Uhr: PK Kogler anl...   \n",
      "4     2019-01-15 09:49:43  Waitz: Glyphosat-Bewertung stammt zum Teil von...   \n",
      "...                   ...                                                ...   \n",
      "1321  2020-12-30 10:25:19  Grüne/Litschauer: AKW Krško ist weiterhin eine...   \n",
      "1322  2020-12-30 12:00:09          Kogler und Stoytchev danken Birgit Hebein   \n",
      "1323  2021-01-04 14:56:57  Grüne begrüßen britische Ablehnung des US-Ausl...   \n",
      "1324  2021-01-05 12:19:08  Grüne/Weratschnig: Lehren aus der Covid-Krise ...   \n",
      "1325  2021-01-07 09:35:35  Ernst-Dziedzic zu Washington-Krawallen: Freie ...   \n",
      "\n",
      "                                                 Teaser  \\\n",
      "0     Kogler: Regierung sollte Wissenschafterinnen u...   \n",
      "1     Grüne: Regierung zielt bewusst auf Kinder und ...   \n",
      "2     Wien (OTS) - Einladung zur Pressekonferenz der...   \n",
      "3     Wien (OTS) - Einladung zur Pressekonferenz der...   \n",
      "4     Plagiatstudie legt nahe, dass Bewertung im Int...   \n",
      "...                                                 ...   \n",
      "1321  Das Atomkraftwerk muss nach Erdbeben endgültig...   \n",
      "1322  „Hebein hat Klimaschutz- & Sozialpolitik in be...   \n",
      "1323  Ewa Ernst-Dziedzic: Weitergehende Maßnahmen zu...   \n",
      "1324  2020 wurden 1,8 Milliarden Liter weniger Treib...   \n",
      "1325  Grüne verurteilen gewaltsame Stürmung des Kapi...   \n",
      "\n",
      "                                                   Link  \\\n",
      "0     https://www.ots.at/presseaussendung/OTS_201901...   \n",
      "1     https://www.ots.at/presseaussendung/OTS_201901...   \n",
      "2     https://www.ots.at/presseaussendung/OTS_201901...   \n",
      "3     https://www.ots.at/presseaussendung/OTS_201901...   \n",
      "4     https://www.ots.at/presseaussendung/OTS_201901...   \n",
      "...                                                 ...   \n",
      "1321  https://www.ots.at/presseaussendung/OTS_202012...   \n",
      "1322  https://www.ots.at/presseaussendung/OTS_202012...   \n",
      "1323  https://www.ots.at/presseaussendung/OTS_202101...   \n",
      "1324  https://www.ots.at/presseaussendung/OTS_202101...   \n",
      "1325  https://www.ots.at/presseaussendung/OTS_202101...   \n",
      "\n",
      "                                                 Inhalt Partei  \\\n",
      "0     Kogler: Regierung sollte Wissenschafterinnen u...  Grüne   \n",
      "1     Grüne: Regierung zielt bewusst auf Kinder und ...  Grüne   \n",
      "2     Wien (OTS) - Einladung zur Pressekonferenz der...  Grüne   \n",
      "3     Wien (OTS) - Einladung zur Pressekonferenz der...  Grüne   \n",
      "4     Plagiatstudie legt nahe, dass Bewertung im Int...  Grüne   \n",
      "...                                                 ...    ...   \n",
      "1321  Das Atomkraftwerk muss nach Erdbeben endgültig...  Grüne   \n",
      "1322  „Hebein hat Klimaschutz- & Sozialpolitik in be...  Grüne   \n",
      "1323  Ewa Ernst-Dziedzic: Weitergehende Maßnahmen zu...  Grüne   \n",
      "1324  2020 wurden 1,8 Milliarden Liter weniger Treib...  Grüne   \n",
      "1325  Grüne verurteilen gewaltsame Stürmung des Kapi...  Grüne   \n",
      "\n",
      "      Sentiment Score  Nach Angelobung Jahr_Monat  \n",
      "0            1.982245                0    2019-01  \n",
      "1            1.065928                0    2019-01  \n",
      "2            1.999191                0    2019-01  \n",
      "3            1.999022                0    2019-01  \n",
      "4            1.998283                0    2019-01  \n",
      "...               ...              ...        ...  \n",
      "1321         1.993590                1    2020-12  \n",
      "1322         1.997644                1    2020-12  \n",
      "1323         1.984869                1    2021-01  \n",
      "1324         1.997587                1    2021-01  \n",
      "1325         1.206881                1    2021-01  \n",
      "\n",
      "[1326 rows x 9 columns]\n"
     ]
    }
   ],
   "source": [
    "partei_datensatz\n",
    "# Sortiere die Daten nach Monat\n",
    "def datums_kürzer(veröffentlichungs_datum):\n",
    "    jahr_monat = veröffentlichungs_datum[:7]\n",
    "    return jahr_monat\n",
    "    \n",
    "\n",
    "partei_datensatz[\"Jahr_Monat\"]=partei_datensatz[\"Datum\"].apply(datums_kürzer)\n",
    "\n",
    "print(partei_datensatz)"
   ]
  },
  {
   "cell_type": "code",
   "execution_count": 17,
   "metadata": {},
   "outputs": [
    {
     "name": "stdout",
     "output_type": "stream",
     "text": [
      "Jahr_Monat\n",
      "2019-01    1.761362\n",
      "2019-02    1.739513\n",
      "2019-03    1.706491\n",
      "2019-04    1.794566\n",
      "2019-05    1.809223\n",
      "2019-06    1.803101\n",
      "2019-07    1.748677\n",
      "2019-08    1.840348\n",
      "2019-09    1.813649\n",
      "2019-10    1.809616\n",
      "2019-11    1.873108\n",
      "2019-12    1.894290\n",
      "2020-01    2.005438\n",
      "2020-02    1.903330\n",
      "2020-03    1.920191\n",
      "2020-04    1.941375\n",
      "2020-05    1.954010\n",
      "2020-06    1.909351\n",
      "2020-07    1.974594\n",
      "2020-08    1.922538\n",
      "2020-09    1.907158\n",
      "2020-10    1.948693\n",
      "2020-11    1.877380\n",
      "2020-12    1.927248\n",
      "2021-01    1.729779\n",
      "Name: Sentiment Score, dtype: float64\n",
      "[1.7613615997189689, 1.739512840868402, 1.7064914696190498, 1.794565508916331, 1.8092225745948174, 1.8031006872743487, 1.7486766778256424, 1.8403483075616633, 1.8136485285880604, 1.8096156500432699, 1.873107736164931, 1.8942900234945357, 2.005437563912231, 1.9033295070780696, 1.9201905222941302, 1.9413752075627713, 1.9540096327046732, 1.909350608521641, 1.9745941951836725, 1.9225376978297504, 1.9071575682463278, 1.948693310482567, 1.8773795924962542, 1.92724829998263, 1.7297788094341133]\n"
     ]
    }
   ],
   "source": [
    "durchschnitt_pro_monat = partei_datensatz.groupby('Jahr_Monat')['Sentiment Score'].mean()\n",
    "print(durchschnitt_pro_monat)\n",
    "monatswert = pd.DataFrame(durchschnitt_pro_monat)\n",
    "x = monatswert.index.to_list()\n",
    "y = monatswert[\"Sentiment Score\"].to_list()\n",
    "print(y)"
   ]
  },
  {
   "cell_type": "code",
   "execution_count": 18,
   "metadata": {},
   "outputs": [],
   "source": [
    "# Speichert in neuem Datensatz\n",
    "partei_datensatz.to_csv(\"mit_sentiment_score\")\n",
    "monatswert.to_csv(\"liniendiagramm\")"
   ]
  },
  {
   "cell_type": "code",
   "execution_count": 19,
   "metadata": {},
   "outputs": [
    {
     "data": {
      "image/png": "[encoded data removed]",
      "text/plain": [
       "<Figure size 800x500 with 1 Axes>"
      ]
     },
     "metadata": {},
     "output_type": "display_data"
    }
   ],
   "source": [
    "plt.figure(figsize=(8, 5))\n",
    "x = [-12, -11, -10, -9, -8, -7, -6, -5, -4, -3, -2, -1, \"t=0\", 1, 2, 3, 4, 5, 6, 7, 8, 9, 10, 11, 12]\n",
    "plt.plot(x, y, marker='o', linestyle='-', color='g', label='Grüne')\n",
    "plt.ylim(1, 3)\n",
    "\n",
    "\n",
    "# Diagrammbeschriftungen und Titel\n",
    "plt.title('Sentiment Analysis of Austrian Parties', fontsize=14)\n",
    "plt.xlabel('In Monate', fontsize=12)\n",
    "plt.ylabel('Sentiment Score', fontsize=12)\n",
    "\n",
    "# Gitter und Legende hinzufügen\n",
    "plt.grid(True, linestyle='--', alpha=0.6)\n",
    "plt.legend(fontsize=10)\n",
    "\n",
    "# Diagramm anzeigen\n",
    "plt.show()"
   ]
  }
 ],
 "metadata": {
  "kernelspec": {
   "display_name": "Python 3",
   "language": "python",
   "name": "python3"
  },
  "language_info": {
   "codemirror_mode": {
    "name": "ipython",
    "version": 3
   },
   "file_extension": ".py",
   "mimetype": "text/x-python",
   "name": "python",
   "nbconvert_exporter": "python",
   "pygments_lexer": "ipython3",
   "version": "3.10.7"
  }
 },
 "nbformat": 4,
 "nbformat_minor": 2
}
