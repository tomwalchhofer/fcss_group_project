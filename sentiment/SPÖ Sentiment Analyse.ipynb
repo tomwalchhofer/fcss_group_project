{
 "cells": [
  {
   "cell_type": "code",
   "execution_count": 17,
   "metadata": {},
   "outputs": [],
   "source": [
    "import pandas as pd\n",
    "from scipy.stats import ttest_ind\n",
    "import numpy as np\n",
    "import matplotlib.pyplot as plt"
   ]
  },
  {
   "cell_type": "code",
   "execution_count": 18,
   "metadata": {},
   "outputs": [],
   "source": [
    "# Lade das Datenset\n",
    "# Tausche hier die Daten aus\n",
    "partei_datensatz = pd.read_csv(\"spoe.csv\")\n",
    "partei_name = \"SPÖ\"\n",
    "Angelobung_Datum = \"2007-01-11\"\n",
    "\n",
    "\n",
    "# Teste ob die Daten funktionieren\n",
    "datensatz_kurz = partei_datensatz[1000:1005]\n",
    "#print(datensatz_kurz[\"Inhalt\"][1])"
   ]
  },
  {
   "cell_type": "code",
   "execution_count": 19,
   "metadata": {},
   "outputs": [
    {
     "name": "stdout",
     "output_type": "stream",
     "text": [
      "2007-01-11 00:00:00\n"
     ]
    }
   ],
   "source": [
    "angelobung = pd.to_datetime(Angelobung_Datum)\n",
    "print(angelobung)"
   ]
  },
  {
   "cell_type": "code",
   "execution_count": 20,
   "metadata": {},
   "outputs": [],
   "source": [
    "# Installiere wenn du ihn noch nicht hast, den Sentiment analyser\n",
    "#pip install germansentiment"
   ]
  },
  {
   "cell_type": "code",
   "execution_count": 21,
   "metadata": {},
   "outputs": [],
   "source": [
    "from germansentiment import SentimentModel\n"
   ]
  },
  {
   "cell_type": "code",
   "execution_count": 22,
   "metadata": {},
   "outputs": [],
   "source": [
    "model = SentimentModel()"
   ]
  },
  {
   "cell_type": "code",
   "execution_count": 23,
   "metadata": {},
   "outputs": [],
   "source": [
    "# Definiere die Funktion zur Berechnung des Scores\n",
    "\n",
    "def sentiment_calculator(text):\n",
    "    classes, probabilities = model.predict_sentiment([text], output_probabilities = True)\n",
    "    # Berechnet einen Wert zwischen 1 und 3, wobei 3 sehr positiv ist und 1 sehr negativ.\n",
    "    # Da uns das deutsche Sentiment Package nur die WSK gibt, habe ich daraus einen score kalkuliert.\n",
    "    # 3 ist nur positiv, 2 ist komplett neutral, 1 ist komplett negativ\n",
    "    score_zw_1_und_3 = (probabilities[0][0][1])*3+(probabilities[0][1][1])*1+(probabilities[0][2][1])*2\n",
    "    # positive_wsk*3 + neutrale_wsk*2 + negative_wsk)*1\n",
    "    return score_zw_1_und_3"
   ]
  },
  {
   "cell_type": "code",
   "execution_count": 24,
   "metadata": {},
   "outputs": [
    {
     "name": "stdout",
     "output_type": "stream",
     "text": [
      "                                                  Titel  Sentiment Score  \\\n",
      "0     H e u t e : Bures/Darabos - Pressekonferenz um...         1.999994   \n",
      "1     Sozialistische Jugend fordert Zerschlagung rec...         1.975106   \n",
      "2            12./13. Jänner 2006: SPÖ-Neujahrskonferenz         1.997250   \n",
      "3     Prammer: Hohe Teilzeitquote bei Frauen Ausdruc...         1.982790   \n",
      "4     Parnigoni: Kriminalitätsstatistik 2005 ist Leh...         1.990612   \n",
      "...                                                 ...              ...   \n",
      "9138  Gusenbauer: Zur Pflegelösung kommt \"Aktion Sch...         1.997815   \n",
      "9139  Cap: SPÖ-Forderung nach Rückforderungsverzicht...         1.991174   \n",
      "9140  Dobnigg zu Pflege: SPÖ sorgt für Rechtssicherheit         1.981035   \n",
      "9141  Matznetter besorgt: US-Hypothekenkrise ist noc...         1.987280   \n",
      "9142  Wittmann zu aktueller Blutdoping-Affäre: Krimi...         1.995940   \n",
      "\n",
      "                    Datum  \n",
      "0     2006-01-11 08:32:58  \n",
      "1     2006-01-11 08:40:11  \n",
      "2     2006-01-11 09:27:01  \n",
      "3     2006-01-11 10:13:29  \n",
      "4     2006-01-11 10:31:05  \n",
      "...                   ...  \n",
      "9138  2008-01-11 14:21:04  \n",
      "9139  2008-01-11 14:31:39  \n",
      "9140  2008-01-11 14:49:33  \n",
      "9141  2008-01-11 15:09:52  \n",
      "9142  2008-01-11 15:42:38  \n",
      "\n",
      "[9143 rows x 3 columns]\n"
     ]
    }
   ],
   "source": [
    "# Speichert den Score in einer neuen Zeile\n",
    "datensatz_kurz\n",
    "#partei_datensatz[\"Sentiment Score\"]=partei_datensatz[\"Inhalt\"].apply(sentiment_calculator)\n",
    "partei_datensatz[\"Sentiment Score\"]=partei_datensatz[\"Inhalt\"].apply(sentiment_calculator)\n",
    "\n",
    "\n",
    "print(partei_datensatz[[\"Titel\",\"Sentiment Score\",\"Datum\"]])"
   ]
  },
  {
   "cell_type": "code",
   "execution_count": 25,
   "metadata": {},
   "outputs": [
    {
     "name": "stdout",
     "output_type": "stream",
     "text": [
      "                    Datum                                              Titel  \\\n",
      "0     2006-01-11 08:32:58  H e u t e : Bures/Darabos - Pressekonferenz um...   \n",
      "1     2006-01-11 08:40:11  Sozialistische Jugend fordert Zerschlagung rec...   \n",
      "2     2006-01-11 09:27:01         12./13. Jänner 2006: SPÖ-Neujahrskonferenz   \n",
      "3     2006-01-11 10:13:29  Prammer: Hohe Teilzeitquote bei Frauen Ausdruc...   \n",
      "4     2006-01-11 10:31:05  Parnigoni: Kriminalitätsstatistik 2005 ist Leh...   \n",
      "...                   ...                                                ...   \n",
      "9138  2008-01-11 14:21:04  Gusenbauer: Zur Pflegelösung kommt \"Aktion Sch...   \n",
      "9139  2008-01-11 14:31:39  Cap: SPÖ-Forderung nach Rückforderungsverzicht...   \n",
      "9140  2008-01-11 14:49:33  Dobnigg zu Pflege: SPÖ sorgt für Rechtssicherheit   \n",
      "9141  2008-01-11 15:09:52  Matznetter besorgt: US-Hypothekenkrise ist noc...   \n",
      "9142  2008-01-11 15:42:38  Wittmann zu aktueller Blutdoping-Affäre: Krimi...   \n",
      "\n",
      "                                                 Teaser  \\\n",
      "0     Wien (SK) - Heute Mittwoch, 11. Jänner 2006, f...   \n",
      "1     Skandal um Braunauer-Fußballfanklub ist nur di...   \n",
      "2     Themen: Für ein soziales Österreich und Europa...   \n",
      "3      Frauen brauchen Arbeit, von der sie leben können   \n",
      "4        \"Nicht Mogeln und Schönfärben, Frau Minister!\"   \n",
      "...                                                 ...   \n",
      "9138  Hacklerregelung bis 2013 verlängert - Pensions...   \n",
      "9139  Wien (SK) - Er begrüße, dass die Forderung der...   \n",
      "9140  Jahre der sozialen Gleichgültigkeit sind vorbe...   \n",
      "9141  Veranstaltung des Renner-Instituts zum Einflus...   \n",
      "9142  Wien (SK) - Zu den sich verdichtenden Meldunge...   \n",
      "\n",
      "                                                   Link  \\\n",
      "0     https://www.ots.at/presseaussendung/OTS_200601...   \n",
      "1     https://www.ots.at/presseaussendung/OTS_200601...   \n",
      "2     https://www.ots.at/presseaussendung/OTS_200601...   \n",
      "3     https://www.ots.at/presseaussendung/OTS_200601...   \n",
      "4     https://www.ots.at/presseaussendung/OTS_200601...   \n",
      "...                                                 ...   \n",
      "9138  https://www.ots.at/presseaussendung/OTS_200801...   \n",
      "9139  https://www.ots.at/presseaussendung/OTS_200801...   \n",
      "9140  https://www.ots.at/presseaussendung/OTS_200801...   \n",
      "9141  https://www.ots.at/presseaussendung/OTS_200801...   \n",
      "9142  https://www.ots.at/presseaussendung/OTS_200801...   \n",
      "\n",
      "                                                 Inhalt Partei  \\\n",
      "0     Wien (SK) - Heute Mittwoch, 11. Jänner 2006, f...    SPÖ   \n",
      "1     Skandal um Braunauer-Fußballfanklub ist nur di...    SPÖ   \n",
      "2     Themen: Für ein soziales Österreich und Europa...    SPÖ   \n",
      "3     Frauen brauchen Arbeit, von der sie leben könn...    SPÖ   \n",
      "4     \"Nicht Mogeln und Schönfärben, Frau Minister!\"...    SPÖ   \n",
      "...                                                 ...    ...   \n",
      "9138  Hacklerregelung bis 2013 verlängert - Pensions...    SPÖ   \n",
      "9139  Wien (SK) - Er begrüße, dass die Forderung der...    SPÖ   \n",
      "9140  Jahre der sozialen Gleichgültigkeit sind vorbe...    SPÖ   \n",
      "9141  Veranstaltung des Renner-Instituts zum Einflus...    SPÖ   \n",
      "9142  Wien (SK) - Zu den sich verdichtenden Meldunge...    SPÖ   \n",
      "\n",
      "      Sentiment Score  Nach Angelobung  \n",
      "0            1.999994                0  \n",
      "1            1.975106                0  \n",
      "2            1.997250                0  \n",
      "3            1.982790                0  \n",
      "4            1.990612                0  \n",
      "...               ...              ...  \n",
      "9138         1.997815                1  \n",
      "9139         1.991174                1  \n",
      "9140         1.981035                1  \n",
      "9141         1.987280                1  \n",
      "9142         1.995940                1  \n",
      "\n",
      "[9143 rows x 8 columns]\n"
     ]
    }
   ],
   "source": [
    "# Schaut, ob der Tag vor oder nach der Angelobung liegt\n",
    "\n",
    "def datums_checker(veröffentlichungs_datum):\n",
    "    kurzes_datum =pd.to_datetime(veröffentlichungs_datum[:10])\n",
    "    if kurzes_datum > angelobung:\n",
    "        return 1\n",
    "    else:\n",
    "        return 0\n",
    "    \n",
    "\n",
    "partei_datensatz[\"Nach Angelobung\"]=partei_datensatz[\"Datum\"].apply(datums_checker)\n",
    "\n",
    "print(partei_datensatz)"
   ]
  },
  {
   "cell_type": "code",
   "execution_count": 26,
   "metadata": {},
   "outputs": [
    {
     "data": {
      "text/plain": [
       "0       1.999994\n",
       "1       1.975106\n",
       "2       1.997250\n",
       "3       1.982790\n",
       "4       1.990612\n",
       "          ...   \n",
       "9138    1.997815\n",
       "9139    1.991174\n",
       "9140    1.981035\n",
       "9141    1.987280\n",
       "9142    1.995940\n",
       "Name: Sentiment Score, Length: 9143, dtype: float64"
      ]
     },
     "execution_count": 26,
     "metadata": {},
     "output_type": "execute_result"
    }
   ],
   "source": [
    "partei_datensatz[\"Sentiment Score\"]\n"
   ]
  },
  {
   "cell_type": "code",
   "execution_count": 27,
   "metadata": {},
   "outputs": [
    {
     "name": "stdout",
     "output_type": "stream",
     "text": [
      "1.8520886830901564\n",
      "0.2939444559646273\n",
      "4824\n",
      "1.9478106090965914\n",
      "0.16717268929036702\n",
      "4319\n",
      "SPÖ Durchschnitt vor der Angelobung: 1.8520886830901564\n",
      "SPÖ Durchschnitt nach der Angelobung: 1.9478106090965914\n"
     ]
    }
   ],
   "source": [
    "# Berechne den Durchschnitt vor der Angelobung\n",
    "vor_angelobung_avg = partei_datensatz[partei_datensatz[\"Nach Angelobung\"] == 0][\"Sentiment Score\"].mean()\n",
    "print(vor_angelobung_avg)\n",
    "\n",
    "vor_angelobung_std = partei_datensatz[partei_datensatz[\"Nach Angelobung\"] == 0][\"Sentiment Score\"].std()\n",
    "print(vor_angelobung_std)\n",
    "\n",
    "vor_angelobung_len = len(partei_datensatz[partei_datensatz[\"Nach Angelobung\"] == 0])\n",
    "print(vor_angelobung_len)\n",
    "\n",
    "\n",
    "# Berechne den Durschnitt nach der Angelobung\n",
    "nach_angelobung_avg = partei_datensatz[partei_datensatz[\"Nach Angelobung\"] == 1][\"Sentiment Score\"].mean()\n",
    "print(nach_angelobung_avg)\n",
    "\n",
    "nach_angelobung_std = partei_datensatz[partei_datensatz[\"Nach Angelobung\"] == 1][\"Sentiment Score\"].std()\n",
    "print(nach_angelobung_std)\n",
    "\n",
    "nach_angelobung_len = len(partei_datensatz[partei_datensatz[\"Nach Angelobung\"] == 1])\n",
    "print(nach_angelobung_len)\n",
    "\n",
    "print(f\"{partei_name} Durchschnitt vor der Angelobung: {vor_angelobung_avg}\")\n",
    "print(f\"{partei_name} Durchschnitt nach der Angelobung: {nach_angelobung_avg}\")"
   ]
  },
  {
   "cell_type": "code",
   "execution_count": 28,
   "metadata": {},
   "outputs": [
    {
     "name": "stdout",
     "output_type": "stream",
     "text": [
      "T-Wert: -18.834, p-Wert: 0.000\n"
     ]
    }
   ],
   "source": [
    "# Berechne den t-test\n",
    "group1 = np.random.normal(vor_angelobung_avg, vor_angelobung_std, vor_angelobung_len)\n",
    "group2 = np.random.normal(nach_angelobung_avg, nach_angelobung_std, nach_angelobung_len)\n",
    "\n",
    "# t-Test durchführen\n",
    "t_stat, p_value = ttest_ind(group1, group2, equal_var=False)  # Welch's t-test (ungleiche Varianzen)\n",
    "print(f\"T-Wert: {t_stat:.3f}, p-Wert: {p_value:.3f}\")"
   ]
  },
  {
   "cell_type": "code",
   "execution_count": 107,
   "metadata": {},
   "outputs": [],
   "source": []
  },
  {
   "cell_type": "code",
   "execution_count": 29,
   "metadata": {},
   "outputs": [
    {
     "name": "stdout",
     "output_type": "stream",
     "text": [
      "                    Datum                                              Titel  \\\n",
      "0     2006-01-11 08:32:58  H e u t e : Bures/Darabos - Pressekonferenz um...   \n",
      "1     2006-01-11 08:40:11  Sozialistische Jugend fordert Zerschlagung rec...   \n",
      "2     2006-01-11 09:27:01         12./13. Jänner 2006: SPÖ-Neujahrskonferenz   \n",
      "3     2006-01-11 10:13:29  Prammer: Hohe Teilzeitquote bei Frauen Ausdruc...   \n",
      "4     2006-01-11 10:31:05  Parnigoni: Kriminalitätsstatistik 2005 ist Leh...   \n",
      "...                   ...                                                ...   \n",
      "9138  2008-01-11 14:21:04  Gusenbauer: Zur Pflegelösung kommt \"Aktion Sch...   \n",
      "9139  2008-01-11 14:31:39  Cap: SPÖ-Forderung nach Rückforderungsverzicht...   \n",
      "9140  2008-01-11 14:49:33  Dobnigg zu Pflege: SPÖ sorgt für Rechtssicherheit   \n",
      "9141  2008-01-11 15:09:52  Matznetter besorgt: US-Hypothekenkrise ist noc...   \n",
      "9142  2008-01-11 15:42:38  Wittmann zu aktueller Blutdoping-Affäre: Krimi...   \n",
      "\n",
      "                                                 Teaser  \\\n",
      "0     Wien (SK) - Heute Mittwoch, 11. Jänner 2006, f...   \n",
      "1     Skandal um Braunauer-Fußballfanklub ist nur di...   \n",
      "2     Themen: Für ein soziales Österreich und Europa...   \n",
      "3      Frauen brauchen Arbeit, von der sie leben können   \n",
      "4        \"Nicht Mogeln und Schönfärben, Frau Minister!\"   \n",
      "...                                                 ...   \n",
      "9138  Hacklerregelung bis 2013 verlängert - Pensions...   \n",
      "9139  Wien (SK) - Er begrüße, dass die Forderung der...   \n",
      "9140  Jahre der sozialen Gleichgültigkeit sind vorbe...   \n",
      "9141  Veranstaltung des Renner-Instituts zum Einflus...   \n",
      "9142  Wien (SK) - Zu den sich verdichtenden Meldunge...   \n",
      "\n",
      "                                                   Link  \\\n",
      "0     https://www.ots.at/presseaussendung/OTS_200601...   \n",
      "1     https://www.ots.at/presseaussendung/OTS_200601...   \n",
      "2     https://www.ots.at/presseaussendung/OTS_200601...   \n",
      "3     https://www.ots.at/presseaussendung/OTS_200601...   \n",
      "4     https://www.ots.at/presseaussendung/OTS_200601...   \n",
      "...                                                 ...   \n",
      "9138  https://www.ots.at/presseaussendung/OTS_200801...   \n",
      "9139  https://www.ots.at/presseaussendung/OTS_200801...   \n",
      "9140  https://www.ots.at/presseaussendung/OTS_200801...   \n",
      "9141  https://www.ots.at/presseaussendung/OTS_200801...   \n",
      "9142  https://www.ots.at/presseaussendung/OTS_200801...   \n",
      "\n",
      "                                                 Inhalt Partei  \\\n",
      "0     Wien (SK) - Heute Mittwoch, 11. Jänner 2006, f...    SPÖ   \n",
      "1     Skandal um Braunauer-Fußballfanklub ist nur di...    SPÖ   \n",
      "2     Themen: Für ein soziales Österreich und Europa...    SPÖ   \n",
      "3     Frauen brauchen Arbeit, von der sie leben könn...    SPÖ   \n",
      "4     \"Nicht Mogeln und Schönfärben, Frau Minister!\"...    SPÖ   \n",
      "...                                                 ...    ...   \n",
      "9138  Hacklerregelung bis 2013 verlängert - Pensions...    SPÖ   \n",
      "9139  Wien (SK) - Er begrüße, dass die Forderung der...    SPÖ   \n",
      "9140  Jahre der sozialen Gleichgültigkeit sind vorbe...    SPÖ   \n",
      "9141  Veranstaltung des Renner-Instituts zum Einflus...    SPÖ   \n",
      "9142  Wien (SK) - Zu den sich verdichtenden Meldunge...    SPÖ   \n",
      "\n",
      "      Sentiment Score  Nach Angelobung Jahr_Monat  \n",
      "0            1.999994                0    2006-01  \n",
      "1            1.975106                0    2006-01  \n",
      "2            1.997250                0    2006-01  \n",
      "3            1.982790                0    2006-01  \n",
      "4            1.990612                0    2006-01  \n",
      "...               ...              ...        ...  \n",
      "9138         1.997815                1    2008-01  \n",
      "9139         1.991174                1    2008-01  \n",
      "9140         1.981035                1    2008-01  \n",
      "9141         1.987280                1    2008-01  \n",
      "9142         1.995940                1    2008-01  \n",
      "\n",
      "[9143 rows x 9 columns]\n"
     ]
    }
   ],
   "source": [
    "partei_datensatz\n",
    "# Sortiere die Daten nach Monat\n",
    "def datums_kürzer(veröffentlichungs_datum):\n",
    "    jahr_monat = veröffentlichungs_datum[:7]\n",
    "    return jahr_monat\n",
    "    \n",
    "\n",
    "partei_datensatz[\"Jahr_Monat\"]=partei_datensatz[\"Datum\"].apply(datums_kürzer)\n",
    "\n",
    "print(partei_datensatz)"
   ]
  },
  {
   "cell_type": "code",
   "execution_count": 30,
   "metadata": {},
   "outputs": [
    {
     "name": "stdout",
     "output_type": "stream",
     "text": [
      "Jahr_Monat\n",
      "2006-01    1.842841\n",
      "2006-02    1.825977\n",
      "2006-03    1.841818\n",
      "2006-04    1.832044\n",
      "2006-05    1.840365\n",
      "2006-06    1.867621\n",
      "2006-07    1.820005\n",
      "2006-08    1.839949\n",
      "2006-09    1.833701\n",
      "2006-10    1.927562\n",
      "2006-11    1.909376\n",
      "2006-12    1.904532\n",
      "2007-01    1.937428\n",
      "2007-02    1.939749\n",
      "2007-03    1.967023\n",
      "2007-04    1.933056\n",
      "2007-05    1.953217\n",
      "2007-06    1.933964\n",
      "2007-07    1.954608\n",
      "2007-08    1.950562\n",
      "2007-09    1.954567\n",
      "2007-10    1.952093\n",
      "2007-11    1.953736\n",
      "2007-12    1.930646\n",
      "2008-01    1.980221\n",
      "Name: Sentiment Score, dtype: float64\n",
      "[1.8428412943386814, 1.825976687879546, 1.8418178169752384, 1.8320441188925192, 1.840364557352042, 1.8676209238583361, 1.8200046939214134, 1.8399489766925472, 1.8337011825717318, 1.927562161898425, 1.909376020683317, 1.9045318466043304, 1.9374284334909715, 1.9397487268893665, 1.9670231239558673, 1.9330562195648866, 1.9532165839021771, 1.9339636088564685, 1.9546080779687762, 1.9505616680658147, 1.9545669522172646, 1.952093231557536, 1.9537355518396529, 1.9306455222051317, 1.9802211072958642]\n"
     ]
    }
   ],
   "source": [
    "durchschnitt_pro_monat = partei_datensatz.groupby('Jahr_Monat')['Sentiment Score'].mean()\n",
    "print(durchschnitt_pro_monat)\n",
    "monatswert = pd.DataFrame(durchschnitt_pro_monat)\n",
    "x = monatswert.index.to_list()\n",
    "y = monatswert[\"Sentiment Score\"].to_list()\n",
    "print(y)"
   ]
  },
  {
   "cell_type": "code",
   "execution_count": 31,
   "metadata": {},
   "outputs": [],
   "source": [
    "# Speichert in neuem Datensatz\n",
    "partei_datensatz.to_csv(\"mit_sentiment_score\")\n",
    "monatswert.to_csv(\"liniendiagramm\")"
   ]
  },
  {
   "cell_type": "code",
   "execution_count": 32,
   "metadata": {},
   "outputs": [
    {
     "data": {
      "image/png": "[encoded data removed]",
      "text/plain": [
       "<Figure size 800x500 with 1 Axes>"
      ]
     },
     "metadata": {},
     "output_type": "display_data"
    }
   ],
   "source": [
    "plt.figure(figsize=(8, 5))\n",
    "x = [-12, -11, -10, -9, -8, -7, -6, -5, -4, -3, -2, -1, \"t=0\", 1, 2, 3, 4, 5, 6, 7, 8, 9, 10, 11, 12]\n",
    "plt.plot(x, y, marker='o', linestyle='-', color='r', label='SPÖ')\n",
    "plt.ylim(1, 3)\n",
    "\n",
    "\n",
    "# Diagrammbeschriftungen und Titel\n",
    "plt.title('Sentiment Analysis of Austrian Parties', fontsize=14)\n",
    "plt.xlabel('In Monate', fontsize=12)\n",
    "plt.ylabel('Sentiment Score', fontsize=12)\n",
    "\n",
    "# Gitter und Legende hinzufügen\n",
    "plt.grid(True, linestyle='--', alpha=0.6)\n",
    "plt.legend(fontsize=10)\n",
    "\n",
    "# Diagramm anzeigen\n",
    "plt.show()"
   ]
  }
 ],
 "metadata": {
  "kernelspec": {
   "display_name": "Python 3",
   "language": "python",
   "name": "python3"
  },
  "language_info": {
   "codemirror_mode": {
    "name": "ipython",
    "version": 3
   },
   "file_extension": ".py",
   "mimetype": "text/x-python",
   "name": "python",
   "nbconvert_exporter": "python",
   "pygments_lexer": "ipython3",
   "version": "3.10.7"
  }
 },
 "nbformat": 4,
 "nbformat_minor": 2
}
