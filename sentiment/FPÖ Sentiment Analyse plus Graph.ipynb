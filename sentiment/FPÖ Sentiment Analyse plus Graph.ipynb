{
 "cells": [
  {
   "cell_type": "code",
   "execution_count": 1,
   "metadata": {},
   "outputs": [],
   "source": [
    "import pandas as pd\n",
    "from scipy.stats import ttest_ind\n",
    "import numpy as np\n",
    "import matplotlib.pyplot as plt"
   ]
  },
  {
   "cell_type": "code",
   "execution_count": 5,
   "metadata": {},
   "outputs": [
    {
     "data": {
      "text/plain": [
       "<bound method NDFrame.head of                     Datum                                              Titel  \\\n",
       "0     2016-12-18 12:03:17  FPÖ-Obermayr: Visa-Notbremse statt fragwürdige...   \n",
       "1     2016-12-19 09:00:01  Vilimsky: FPÖ kooperiert bestens mit EU-Partne...   \n",
       "2     2016-12-19 10:55:49                               FPÖ-Spitze in Moskau   \n",
       "3     2016-12-19 12:11:56  FPÖ-Schrangl: Sozialdemokratie wohnpolitisch i...   \n",
       "4     2016-12-19 13:37:35  FPÖ: Aviso: Morgen Pressekonferenz Strache, Gu...   \n",
       "...                   ...                                                ...   \n",
       "1917  2018-12-17 12:50:26  FPÖ-Schrangl an Becher: \"Rote Weihnachtsgesche...   \n",
       "1918  2018-12-18 08:39:12  Dinghofer-Institut verleiht Medienpreis an „Zu...   \n",
       "1919  2018-12-18 09:25:14         FPÖ-Gudenus: „In der SPÖ gärt es gewaltig“   \n",
       "1920  2018-12-18 09:43:33  Rapid-Fans: AUF/FPÖ-Herbert: „Polizei hat rech...   \n",
       "1921  2018-12-18 12:14:32  FPÖ-Wurm: „Modernisierung des VKI wurde heute ...   \n",
       "\n",
       "                                                 Teaser  \\\n",
       "0     Jetzt auch Einreise-Erleichterungen für Georgi...   \n",
       "1     Darüber hinaus auch beste Kontakte zu USA, Rus...   \n",
       "2     Wien (OTS) - Vor wenigen Wochen war eine Deleg...   \n",
       "3      Leistbares Wohnen braucht Konzepte und Kompetenz   \n",
       "4     Wien (OTS) - Hiermit laden wir die Kolleginnen...   \n",
       "...                                                 ...   \n",
       "1917  \"SPÖ übt sich in doppelbödigen Taschenspielert...   \n",
       "1918  Widerstand gegen „political correctness” ein w...   \n",
       "1919  „Wortmeldung Doskozils zur Mindestsicherung is...   \n",
       "1920  „Unsere Exekutivbeamten üben einen harten und ...   \n",
       "1921  „Stärkung der Konsumentenrechte steht im Vorde...   \n",
       "\n",
       "                                                   Link  \\\n",
       "0     https://www.ots.at/presseaussendung/OTS_201612...   \n",
       "1     https://www.ots.at/presseaussendung/OTS_201612...   \n",
       "2     https://www.ots.at/presseaussendung/OTS_201612...   \n",
       "3     https://www.ots.at/presseaussendung/OTS_201612...   \n",
       "4     https://www.ots.at/presseaussendung/OTS_201612...   \n",
       "...                                                 ...   \n",
       "1917  https://www.ots.at/presseaussendung/OTS_201812...   \n",
       "1918  https://www.ots.at/presseaussendung/OTS_201812...   \n",
       "1919  https://www.ots.at/presseaussendung/OTS_201812...   \n",
       "1920  https://www.ots.at/presseaussendung/OTS_201812...   \n",
       "1921  https://www.ots.at/presseaussendung/OTS_201812...   \n",
       "\n",
       "                                                 Inhalt Partei  \n",
       "0     Jetzt auch Einreise-Erleichterungen für Georgi...    FPÖ  \n",
       "1     Darüber hinaus auch beste Kontakte zu USA, Rus...    FPÖ  \n",
       "2     Wien (OTS) - Vor wenigen Wochen war eine Deleg...    FPÖ  \n",
       "3     Leistbares Wohnen braucht Konzepte und Kompete...    FPÖ  \n",
       "4     Wien (OTS) - Hiermit laden wir die Kolleginnen...    FPÖ  \n",
       "...                                                 ...    ...  \n",
       "1917  \"SPÖ übt sich in doppelbödigen Taschenspielert...    FPÖ  \n",
       "1918  Widerstand gegen „political correctness” ein w...    FPÖ  \n",
       "1919  „Wortmeldung Doskozils zur Mindestsicherung is...    FPÖ  \n",
       "1920  „Unsere Exekutivbeamten üben einen harten und ...    FPÖ  \n",
       "1921  „Stärkung der Konsumentenrechte steht im Vorde...    FPÖ  \n",
       "\n",
       "[1922 rows x 6 columns]>"
      ]
     },
     "execution_count": 5,
     "metadata": {},
     "output_type": "execute_result"
    }
   ],
   "source": [
    "# Lade das Datenset\n",
    "# Tausche hier die Daten aus\n",
    "partei_datensatz = pd.read_csv(\"fpoe.csv\")\n",
    "partei_name = \"FPÖ\"\n",
    "Angelobung_Datum = \"2017-12-18\"\n",
    "\n",
    "\n",
    "# Teste ob die Daten funktionieren\n",
    "datensatz_kurz = partei_datensatz[1000:1005]\n",
    "#print(datensatz_kurz[\"Inhalt\"][1])\n",
    "partei_datensatz.head"
   ]
  },
  {
   "cell_type": "code",
   "execution_count": 7,
   "metadata": {},
   "outputs": [
    {
     "name": "stdout",
     "output_type": "stream",
     "text": [
      "2017-12-18 00:00:00\n"
     ]
    }
   ],
   "source": [
    "angelobung = pd.to_datetime(Angelobung_Datum)\n",
    "print(angelobung)"
   ]
  },
  {
   "cell_type": "code",
   "execution_count": 11,
   "metadata": {},
   "outputs": [
    {
     "name": "stdout",
     "output_type": "stream",
     "text": [
      "Collecting germansentiment\n",
      "  Using cached germansentiment-1.1.0-py3-none-any.whl.metadata (4.4 kB)\n",
      "Requirement already satisfied: torch>=1.8.1 in c:\\users\\q\\anaconda3\\lib\\site-packages (from germansentiment) (2.5.1)\n",
      "Collecting transformers (from germansentiment)\n",
      "  Using cached transformers-4.48.0-py3-none-any.whl.metadata (44 kB)\n",
      "Requirement already satisfied: filelock in c:\\users\\q\\anaconda3\\lib\\site-packages (from torch>=1.8.1->germansentiment) (3.13.1)\n",
      "Requirement already satisfied: typing-extensions>=4.8.0 in c:\\users\\q\\anaconda3\\lib\\site-packages (from torch>=1.8.1->germansentiment) (4.11.0)\n",
      "Requirement already satisfied: networkx in c:\\users\\q\\anaconda3\\lib\\site-packages (from torch>=1.8.1->germansentiment) (3.2.1)\n",
      "Requirement already satisfied: jinja2 in c:\\users\\q\\anaconda3\\lib\\site-packages (from torch>=1.8.1->germansentiment) (3.1.4)\n",
      "Requirement already satisfied: fsspec in c:\\users\\q\\anaconda3\\lib\\site-packages (from torch>=1.8.1->germansentiment) (2024.3.1)\n",
      "Requirement already satisfied: setuptools in c:\\users\\q\\anaconda3\\lib\\site-packages (from torch>=1.8.1->germansentiment) (69.5.1)\n",
      "Requirement already satisfied: sympy==1.13.1 in c:\\users\\q\\anaconda3\\lib\\site-packages (from torch>=1.8.1->germansentiment) (1.13.1)\n",
      "Requirement already satisfied: mpmath<1.4,>=1.1.0 in c:\\users\\q\\anaconda3\\lib\\site-packages (from sympy==1.13.1->torch>=1.8.1->germansentiment) (1.3.0)\n",
      "Collecting huggingface-hub<1.0,>=0.24.0 (from transformers->germansentiment)\n",
      "  Using cached huggingface_hub-0.27.1-py3-none-any.whl.metadata (13 kB)\n",
      "Requirement already satisfied: numpy>=1.17 in c:\\users\\q\\anaconda3\\lib\\site-packages (from transformers->germansentiment) (1.26.4)\n",
      "Requirement already satisfied: packaging>=20.0 in c:\\users\\q\\anaconda3\\lib\\site-packages (from transformers->germansentiment) (23.2)\n",
      "Requirement already satisfied: pyyaml>=5.1 in c:\\users\\q\\anaconda3\\lib\\site-packages (from transformers->germansentiment) (6.0.1)\n",
      "Requirement already satisfied: regex!=2019.12.17 in c:\\users\\q\\anaconda3\\lib\\site-packages (from transformers->germansentiment) (2023.10.3)\n",
      "Requirement already satisfied: requests in c:\\users\\q\\anaconda3\\lib\\site-packages (from transformers->germansentiment) (2.32.2)\n",
      "Collecting tokenizers<0.22,>=0.21 (from transformers->germansentiment)\n",
      "  Using cached tokenizers-0.21.0-cp39-abi3-win_amd64.whl.metadata (6.9 kB)\n",
      "Requirement already satisfied: safetensors>=0.4.1 in c:\\users\\q\\anaconda3\\lib\\site-packages (from transformers->germansentiment) (0.5.2)\n",
      "Requirement already satisfied: tqdm>=4.27 in c:\\users\\q\\anaconda3\\lib\\site-packages (from transformers->germansentiment) (4.66.4)\n",
      "Requirement already satisfied: colorama in c:\\users\\q\\anaconda3\\lib\\site-packages (from tqdm>=4.27->transformers->germansentiment) (0.4.6)\n",
      "Requirement already satisfied: MarkupSafe>=2.0 in c:\\users\\q\\anaconda3\\lib\\site-packages (from jinja2->torch>=1.8.1->germansentiment) (2.1.3)\n",
      "Requirement already satisfied: charset-normalizer<4,>=2 in c:\\users\\q\\anaconda3\\lib\\site-packages (from requests->transformers->germansentiment) (2.0.4)\n",
      "Requirement already satisfied: idna<4,>=2.5 in c:\\users\\q\\anaconda3\\lib\\site-packages (from requests->transformers->germansentiment) (3.7)\n",
      "Requirement already satisfied: urllib3<3,>=1.21.1 in c:\\users\\q\\anaconda3\\lib\\site-packages (from requests->transformers->germansentiment) (1.26.20)\n",
      "Requirement already satisfied: certifi>=2017.4.17 in c:\\users\\q\\anaconda3\\lib\\site-packages (from requests->transformers->germansentiment) (2024.8.30)\n",
      "Using cached germansentiment-1.1.0-py3-none-any.whl (5.8 kB)\n",
      "Using cached transformers-4.48.0-py3-none-any.whl (9.7 MB)\n",
      "Using cached huggingface_hub-0.27.1-py3-none-any.whl (450 kB)\n",
      "Using cached tokenizers-0.21.0-cp39-abi3-win_amd64.whl (2.4 MB)\n",
      "Installing collected packages: huggingface-hub, tokenizers, transformers, germansentiment\n",
      "Successfully installed germansentiment-1.1.0 huggingface-hub-0.27.1 tokenizers-0.21.0 transformers-4.48.0\n"
     ]
    }
   ],
   "source": [
    "# Installiere wenn du ihn noch nicht hast, den Sentiment analyser\n",
    "!pip install germansentiment"
   ]
  },
  {
   "cell_type": "code",
   "execution_count": 13,
   "metadata": {},
   "outputs": [],
   "source": [
    "from germansentiment import SentimentModel\n"
   ]
  },
  {
   "cell_type": "code",
   "execution_count": 15,
   "metadata": {},
   "outputs": [
    {
     "data": {
      "application/vnd.jupyter.widget-view+json": {
       "model_id": "d0f88b60bb3148e1a2a025c5e7d2efb7",
       "version_major": 2,
       "version_minor": 0
      },
      "text/plain": [
       "config.json:   0%|          | 0.00/665 [00:00<?, ?B/s]"
      ]
     },
     "metadata": {},
     "output_type": "display_data"
    },
    {
     "name": "stderr",
     "output_type": "stream",
     "text": [
      "C:\\Users\\Q\\anaconda3\\Lib\\site-packages\\huggingface_hub\\file_download.py:140: UserWarning: `huggingface_hub` cache-system uses symlinks by default to efficiently store duplicated files but your machine does not support them in C:\\Users\\Q\\.cache\\huggingface\\hub\\models--oliverguhr--german-sentiment-bert. Caching files will still work but in a degraded version that might require more space on your disk. This warning can be disabled by setting the `HF_HUB_DISABLE_SYMLINKS_WARNING` environment variable. For more details, see https://huggingface.co/docs/huggingface_hub/how-to-cache#limitations.\n",
      "To support symlinks on Windows, you either need to activate Developer Mode or to run Python as an administrator. In order to activate developer mode, see this article: https://docs.microsoft.com/en-us/windows/apps/get-started/enable-your-device-for-development\n",
      "  warnings.warn(message)\n"
     ]
    },
    {
     "data": {
      "application/vnd.jupyter.widget-view+json": {
       "model_id": "1c1d4bf0a78d4ca8b0a3e93f940ae671",
       "version_major": 2,
       "version_minor": 0
      },
      "text/plain": [
       "model.safetensors:   0%|          | 0.00/436M [00:00<?, ?B/s]"
      ]
     },
     "metadata": {},
     "output_type": "display_data"
    },
    {
     "data": {
      "application/vnd.jupyter.widget-view+json": {
       "model_id": "fd4676151e4c410ea564019e708785fd",
       "version_major": 2,
       "version_minor": 0
      },
      "text/plain": [
       "tokenizer_config.json:   0%|          | 0.00/161 [00:00<?, ?B/s]"
      ]
     },
     "metadata": {},
     "output_type": "display_data"
    },
    {
     "data": {
      "application/vnd.jupyter.widget-view+json": {
       "model_id": "af4082a4ffc64df3961d78bf26d67178",
       "version_major": 2,
       "version_minor": 0
      },
      "text/plain": [
       "vocab.txt:   0%|          | 0.00/255k [00:00<?, ?B/s]"
      ]
     },
     "metadata": {},
     "output_type": "display_data"
    },
    {
     "data": {
      "application/vnd.jupyter.widget-view+json": {
       "model_id": "47ad2db3fa9c4cba9095f4c73713f60b",
       "version_major": 2,
       "version_minor": 0
      },
      "text/plain": [
       "special_tokens_map.json:   0%|          | 0.00/112 [00:00<?, ?B/s]"
      ]
     },
     "metadata": {},
     "output_type": "display_data"
    }
   ],
   "source": [
    "model = SentimentModel()"
   ]
  },
  {
   "cell_type": "code",
   "execution_count": 16,
   "metadata": {},
   "outputs": [],
   "source": [
    "# Definiere die Funktion zur Berechnung des Scores\n",
    "\n",
    "def sentiment_calculator(text):\n",
    "    classes, probabilities = model.predict_sentiment([text], output_probabilities = True)\n",
    "    # Berechnet einen Wert zwischen 1 und 3, wobei 3 sehr positiv ist und 1 sehr negativ.\n",
    "    # Da uns das deutsche Sentiment Package nur die WSK gibt, habe ich daraus einen score kalkuliert.\n",
    "    # 3 ist nur positiv, 2 ist komplett neutral, 1 ist komplett negativ\n",
    "    score_zw_1_und_3 = (probabilities[0][0][1])*3+(probabilities[0][1][1])*1+(probabilities[0][2][1])*2\n",
    "    # positive_wsk*3 + neutrale_wsk*2 + negative_wsk)*1\n",
    "    return score_zw_1_und_3"
   ]
  },
  {
   "cell_type": "code",
   "execution_count": 19,
   "metadata": {},
   "outputs": [
    {
     "name": "stdout",
     "output_type": "stream",
     "text": [
      "                                                  Titel  Sentiment Score  \\\n",
      "0     FPÖ-Obermayr: Visa-Notbremse statt fragwürdige...         1.940279   \n",
      "1     Vilimsky: FPÖ kooperiert bestens mit EU-Partne...         1.976483   \n",
      "2                                  FPÖ-Spitze in Moskau         1.998481   \n",
      "3     FPÖ-Schrangl: Sozialdemokratie wohnpolitisch i...         1.953548   \n",
      "4     FPÖ: Aviso: Morgen Pressekonferenz Strache, Gu...         1.999912   \n",
      "...                                                 ...              ...   \n",
      "1917  FPÖ-Schrangl an Becher: \"Rote Weihnachtsgesche...         1.810035   \n",
      "1918  Dinghofer-Institut verleiht Medienpreis an „Zu...         1.999681   \n",
      "1919         FPÖ-Gudenus: „In der SPÖ gärt es gewaltig“         1.855126   \n",
      "1920  Rapid-Fans: AUF/FPÖ-Herbert: „Polizei hat rech...         1.566886   \n",
      "1921  FPÖ-Wurm: „Modernisierung des VKI wurde heute ...         1.999090   \n",
      "\n",
      "                    Datum  \n",
      "0     2016-12-18 12:03:17  \n",
      "1     2016-12-19 09:00:01  \n",
      "2     2016-12-19 10:55:49  \n",
      "3     2016-12-19 12:11:56  \n",
      "4     2016-12-19 13:37:35  \n",
      "...                   ...  \n",
      "1917  2018-12-17 12:50:26  \n",
      "1918  2018-12-18 08:39:12  \n",
      "1919  2018-12-18 09:25:14  \n",
      "1920  2018-12-18 09:43:33  \n",
      "1921  2018-12-18 12:14:32  \n",
      "\n",
      "[1922 rows x 3 columns]\n"
     ]
    }
   ],
   "source": [
    "# Speichert den Score in einer neuen Zeile\n",
    "datensatz_kurz\n",
    "#partei_datensatz[\"Sentiment Score\"]=partei_datensatz[\"Inhalt\"].apply(sentiment_calculator)\n",
    "partei_datensatz[\"Sentiment Score\"]=partei_datensatz[\"Inhalt\"].apply(sentiment_calculator)\n",
    "\n",
    "\n",
    "print(partei_datensatz[[\"Titel\",\"Sentiment Score\",\"Datum\"]])"
   ]
  },
  {
   "cell_type": "code",
   "execution_count": 21,
   "metadata": {},
   "outputs": [
    {
     "name": "stdout",
     "output_type": "stream",
     "text": [
      "                    Datum                                              Titel  \\\n",
      "0     2016-12-18 12:03:17  FPÖ-Obermayr: Visa-Notbremse statt fragwürdige...   \n",
      "1     2016-12-19 09:00:01  Vilimsky: FPÖ kooperiert bestens mit EU-Partne...   \n",
      "2     2016-12-19 10:55:49                               FPÖ-Spitze in Moskau   \n",
      "3     2016-12-19 12:11:56  FPÖ-Schrangl: Sozialdemokratie wohnpolitisch i...   \n",
      "4     2016-12-19 13:37:35  FPÖ: Aviso: Morgen Pressekonferenz Strache, Gu...   \n",
      "...                   ...                                                ...   \n",
      "1917  2018-12-17 12:50:26  FPÖ-Schrangl an Becher: \"Rote Weihnachtsgesche...   \n",
      "1918  2018-12-18 08:39:12  Dinghofer-Institut verleiht Medienpreis an „Zu...   \n",
      "1919  2018-12-18 09:25:14         FPÖ-Gudenus: „In der SPÖ gärt es gewaltig“   \n",
      "1920  2018-12-18 09:43:33  Rapid-Fans: AUF/FPÖ-Herbert: „Polizei hat rech...   \n",
      "1921  2018-12-18 12:14:32  FPÖ-Wurm: „Modernisierung des VKI wurde heute ...   \n",
      "\n",
      "                                                 Teaser  \\\n",
      "0     Jetzt auch Einreise-Erleichterungen für Georgi...   \n",
      "1     Darüber hinaus auch beste Kontakte zu USA, Rus...   \n",
      "2     Wien (OTS) - Vor wenigen Wochen war eine Deleg...   \n",
      "3      Leistbares Wohnen braucht Konzepte und Kompetenz   \n",
      "4     Wien (OTS) - Hiermit laden wir die Kolleginnen...   \n",
      "...                                                 ...   \n",
      "1917  \"SPÖ übt sich in doppelbödigen Taschenspielert...   \n",
      "1918  Widerstand gegen „political correctness” ein w...   \n",
      "1919  „Wortmeldung Doskozils zur Mindestsicherung is...   \n",
      "1920  „Unsere Exekutivbeamten üben einen harten und ...   \n",
      "1921  „Stärkung der Konsumentenrechte steht im Vorde...   \n",
      "\n",
      "                                                   Link  \\\n",
      "0     https://www.ots.at/presseaussendung/OTS_201612...   \n",
      "1     https://www.ots.at/presseaussendung/OTS_201612...   \n",
      "2     https://www.ots.at/presseaussendung/OTS_201612...   \n",
      "3     https://www.ots.at/presseaussendung/OTS_201612...   \n",
      "4     https://www.ots.at/presseaussendung/OTS_201612...   \n",
      "...                                                 ...   \n",
      "1917  https://www.ots.at/presseaussendung/OTS_201812...   \n",
      "1918  https://www.ots.at/presseaussendung/OTS_201812...   \n",
      "1919  https://www.ots.at/presseaussendung/OTS_201812...   \n",
      "1920  https://www.ots.at/presseaussendung/OTS_201812...   \n",
      "1921  https://www.ots.at/presseaussendung/OTS_201812...   \n",
      "\n",
      "                                                 Inhalt Partei  \\\n",
      "0     Jetzt auch Einreise-Erleichterungen für Georgi...    FPÖ   \n",
      "1     Darüber hinaus auch beste Kontakte zu USA, Rus...    FPÖ   \n",
      "2     Wien (OTS) - Vor wenigen Wochen war eine Deleg...    FPÖ   \n",
      "3     Leistbares Wohnen braucht Konzepte und Kompete...    FPÖ   \n",
      "4     Wien (OTS) - Hiermit laden wir die Kolleginnen...    FPÖ   \n",
      "...                                                 ...    ...   \n",
      "1917  \"SPÖ übt sich in doppelbödigen Taschenspielert...    FPÖ   \n",
      "1918  Widerstand gegen „political correctness” ein w...    FPÖ   \n",
      "1919  „Wortmeldung Doskozils zur Mindestsicherung is...    FPÖ   \n",
      "1920  „Unsere Exekutivbeamten üben einen harten und ...    FPÖ   \n",
      "1921  „Stärkung der Konsumentenrechte steht im Vorde...    FPÖ   \n",
      "\n",
      "      Sentiment Score  Nach Angelobung  \n",
      "0            1.940279                0  \n",
      "1            1.976483                0  \n",
      "2            1.998481                0  \n",
      "3            1.953548                0  \n",
      "4            1.999912                0  \n",
      "...               ...              ...  \n",
      "1917         1.810035                1  \n",
      "1918         1.999681                1  \n",
      "1919         1.855126                1  \n",
      "1920         1.566886                1  \n",
      "1921         1.999090                1  \n",
      "\n",
      "[1922 rows x 8 columns]\n"
     ]
    }
   ],
   "source": [
    "# Schaut, ob der Tag vor oder nach der Angelobung liegt\n",
    "\n",
    "def datums_checker(veröffentlichungs_datum):\n",
    "    kurzes_datum =pd.to_datetime(veröffentlichungs_datum[:10])\n",
    "    if kurzes_datum > angelobung:\n",
    "        return 1\n",
    "    else:\n",
    "        return 0\n",
    "    \n",
    "\n",
    "partei_datensatz[\"Nach Angelobung\"]=partei_datensatz[\"Datum\"].apply(datums_checker)\n",
    "\n",
    "print(partei_datensatz)"
   ]
  },
  {
   "cell_type": "code",
   "execution_count": 23,
   "metadata": {},
   "outputs": [
    {
     "data": {
      "text/plain": [
       "0       1.940279\n",
       "1       1.976483\n",
       "2       1.998481\n",
       "3       1.953548\n",
       "4       1.999912\n",
       "          ...   \n",
       "1917    1.810035\n",
       "1918    1.999681\n",
       "1919    1.855126\n",
       "1920    1.566886\n",
       "1921    1.999090\n",
       "Name: Sentiment Score, Length: 1922, dtype: float64"
      ]
     },
     "execution_count": 23,
     "metadata": {},
     "output_type": "execute_result"
    }
   ],
   "source": [
    "partei_datensatz[\"Sentiment Score\"]\n"
   ]
  },
  {
   "cell_type": "code",
   "execution_count": 27,
   "metadata": {},
   "outputs": [
    {
     "name": "stdout",
     "output_type": "stream",
     "text": [
      "1.853075730340128\n",
      "0.288912939690872\n",
      "1022\n",
      "1.7956942920301209\n",
      "0.3414016012038953\n",
      "900\n",
      "FPÖ Durchschnitt vor der Angelobung: 1.853075730340128\n",
      "FPÖ Durchschnitt nach der Angelobung: 1.7956942920301209\n"
     ]
    }
   ],
   "source": [
    "# Berechne den Durchschnitt vor der Angelobung\n",
    "vor_angelobung_avg = partei_datensatz[partei_datensatz[\"Nach Angelobung\"] == 0][\"Sentiment Score\"].mean()\n",
    "print(vor_angelobung_avg)\n",
    "\n",
    "vor_angelobung_std = partei_datensatz[partei_datensatz[\"Nach Angelobung\"] == 0][\"Sentiment Score\"].std()\n",
    "print(vor_angelobung_std)\n",
    "\n",
    "vor_angelobung_len = len(partei_datensatz[partei_datensatz[\"Nach Angelobung\"] == 0])\n",
    "print(vor_angelobung_len)\n",
    "\n",
    "\n",
    "# Berechne den Durschnitt nach der Angelobung\n",
    "nach_angelobung_avg = partei_datensatz[partei_datensatz[\"Nach Angelobung\"] == 1][\"Sentiment Score\"].mean()\n",
    "print(nach_angelobung_avg)\n",
    "\n",
    "nach_angelobung_std = partei_datensatz[partei_datensatz[\"Nach Angelobung\"] == 1][\"Sentiment Score\"].std()\n",
    "print(nach_angelobung_std)\n",
    "\n",
    "nach_angelobung_len = len(partei_datensatz[partei_datensatz[\"Nach Angelobung\"] == 1])\n",
    "print(nach_angelobung_len)\n",
    "\n",
    "print(f\"{partei_name} Durchschnitt vor der Angelobung: {vor_angelobung_avg}\")\n",
    "print(f\"{partei_name} Durchschnitt nach der Angelobung: {nach_angelobung_avg}\")"
   ]
  },
  {
   "cell_type": "code",
   "execution_count": 31,
   "metadata": {},
   "outputs": [
    {
     "name": "stdout",
     "output_type": "stream",
     "text": [
      "T-Wert: 3.949, p-Wert: 0.000\n"
     ]
    }
   ],
   "source": [
    "# Berechne den t-test\n",
    "group1 = partei_datensatz[partei_datensatz[\"Nach Angelobung\"] == 0][\"Sentiment Score\"]\n",
    "group2 = partei_datensatz[partei_datensatz[\"Nach Angelobung\"] == 1][\"Sentiment Score\"]\n",
    "\n",
    "# t-Test durchführen\n",
    "t_stat, p_value = ttest_ind(group1, group2, equal_var=False)  # Welch's t-test (ungleiche Varianzen)\n",
    "print(f\"T-Wert: {t_stat:.3f}, p-Wert: {p_value:.3f}\")"
   ]
  },
  {
   "cell_type": "code",
   "execution_count": 107,
   "metadata": {},
   "outputs": [],
   "source": []
  },
  {
   "cell_type": "code",
   "execution_count": 33,
   "metadata": {},
   "outputs": [
    {
     "name": "stdout",
     "output_type": "stream",
     "text": [
      "                    Datum                                              Titel  \\\n",
      "0     2016-12-18 12:03:17  FPÖ-Obermayr: Visa-Notbremse statt fragwürdige...   \n",
      "1     2016-12-19 09:00:01  Vilimsky: FPÖ kooperiert bestens mit EU-Partne...   \n",
      "2     2016-12-19 10:55:49                               FPÖ-Spitze in Moskau   \n",
      "3     2016-12-19 12:11:56  FPÖ-Schrangl: Sozialdemokratie wohnpolitisch i...   \n",
      "4     2016-12-19 13:37:35  FPÖ: Aviso: Morgen Pressekonferenz Strache, Gu...   \n",
      "...                   ...                                                ...   \n",
      "1917  2018-12-17 12:50:26  FPÖ-Schrangl an Becher: \"Rote Weihnachtsgesche...   \n",
      "1918  2018-12-18 08:39:12  Dinghofer-Institut verleiht Medienpreis an „Zu...   \n",
      "1919  2018-12-18 09:25:14         FPÖ-Gudenus: „In der SPÖ gärt es gewaltig“   \n",
      "1920  2018-12-18 09:43:33  Rapid-Fans: AUF/FPÖ-Herbert: „Polizei hat rech...   \n",
      "1921  2018-12-18 12:14:32  FPÖ-Wurm: „Modernisierung des VKI wurde heute ...   \n",
      "\n",
      "                                                 Teaser  \\\n",
      "0     Jetzt auch Einreise-Erleichterungen für Georgi...   \n",
      "1     Darüber hinaus auch beste Kontakte zu USA, Rus...   \n",
      "2     Wien (OTS) - Vor wenigen Wochen war eine Deleg...   \n",
      "3      Leistbares Wohnen braucht Konzepte und Kompetenz   \n",
      "4     Wien (OTS) - Hiermit laden wir die Kolleginnen...   \n",
      "...                                                 ...   \n",
      "1917  \"SPÖ übt sich in doppelbödigen Taschenspielert...   \n",
      "1918  Widerstand gegen „political correctness” ein w...   \n",
      "1919  „Wortmeldung Doskozils zur Mindestsicherung is...   \n",
      "1920  „Unsere Exekutivbeamten üben einen harten und ...   \n",
      "1921  „Stärkung der Konsumentenrechte steht im Vorde...   \n",
      "\n",
      "                                                   Link  \\\n",
      "0     https://www.ots.at/presseaussendung/OTS_201612...   \n",
      "1     https://www.ots.at/presseaussendung/OTS_201612...   \n",
      "2     https://www.ots.at/presseaussendung/OTS_201612...   \n",
      "3     https://www.ots.at/presseaussendung/OTS_201612...   \n",
      "4     https://www.ots.at/presseaussendung/OTS_201612...   \n",
      "...                                                 ...   \n",
      "1917  https://www.ots.at/presseaussendung/OTS_201812...   \n",
      "1918  https://www.ots.at/presseaussendung/OTS_201812...   \n",
      "1919  https://www.ots.at/presseaussendung/OTS_201812...   \n",
      "1920  https://www.ots.at/presseaussendung/OTS_201812...   \n",
      "1921  https://www.ots.at/presseaussendung/OTS_201812...   \n",
      "\n",
      "                                                 Inhalt Partei  \\\n",
      "0     Jetzt auch Einreise-Erleichterungen für Georgi...    FPÖ   \n",
      "1     Darüber hinaus auch beste Kontakte zu USA, Rus...    FPÖ   \n",
      "2     Wien (OTS) - Vor wenigen Wochen war eine Deleg...    FPÖ   \n",
      "3     Leistbares Wohnen braucht Konzepte und Kompete...    FPÖ   \n",
      "4     Wien (OTS) - Hiermit laden wir die Kolleginnen...    FPÖ   \n",
      "...                                                 ...    ...   \n",
      "1917  \"SPÖ übt sich in doppelbödigen Taschenspielert...    FPÖ   \n",
      "1918  Widerstand gegen „political correctness” ein w...    FPÖ   \n",
      "1919  „Wortmeldung Doskozils zur Mindestsicherung is...    FPÖ   \n",
      "1920  „Unsere Exekutivbeamten üben einen harten und ...    FPÖ   \n",
      "1921  „Stärkung der Konsumentenrechte steht im Vorde...    FPÖ   \n",
      "\n",
      "      Sentiment Score  Nach Angelobung Jahr_Monat  \n",
      "0            1.940279                0    2016-12  \n",
      "1            1.976483                0    2016-12  \n",
      "2            1.998481                0    2016-12  \n",
      "3            1.953548                0    2016-12  \n",
      "4            1.999912                0    2016-12  \n",
      "...               ...              ...        ...  \n",
      "1917         1.810035                1    2018-12  \n",
      "1918         1.999681                1    2018-12  \n",
      "1919         1.855126                1    2018-12  \n",
      "1920         1.566886                1    2018-12  \n",
      "1921         1.999090                1    2018-12  \n",
      "\n",
      "[1922 rows x 9 columns]\n"
     ]
    }
   ],
   "source": [
    "partei_datensatz\n",
    "# Sortiere die Daten nach Monat\n",
    "def datums_kürzer(veröffentlichungs_datum):\n",
    "    jahr_monat = veröffentlichungs_datum[:7]\n",
    "    return jahr_monat\n",
    "    \n",
    "\n",
    "partei_datensatz[\"Jahr_Monat\"]=partei_datensatz[\"Datum\"].apply(datums_kürzer)\n",
    "\n",
    "print(partei_datensatz)"
   ]
  },
  {
   "cell_type": "code",
   "execution_count": 41,
   "metadata": {},
   "outputs": [
    {
     "name": "stdout",
     "output_type": "stream",
     "text": [
      "Jahr_Monat\n",
      "2016-12    1.925621\n",
      "2017-01    1.853867\n",
      "2017-02    1.893510\n",
      "2017-03    1.854954\n",
      "2017-04    1.869786\n",
      "2017-05    1.824571\n",
      "2017-06    1.850476\n",
      "2017-07    1.801873\n",
      "2017-08    1.856716\n",
      "2017-09    1.867409\n",
      "2017-10    1.800621\n",
      "2017-11    1.922464\n",
      "2017-12    1.835659\n",
      "2018-01    1.791905\n",
      "2018-02    1.833248\n",
      "2018-03    1.755239\n",
      "2018-04    1.809355\n",
      "2018-05    1.849709\n",
      "2018-06    1.762502\n",
      "2018-07    1.781009\n",
      "2018-08    1.797313\n",
      "2018-09    1.773125\n",
      "2018-10    1.824992\n",
      "2018-11    1.775596\n",
      "2018-12    1.802144\n",
      "Name: Sentiment Score, dtype: float64\n",
      "[1.9256210857965925, 1.8538665127880336, 1.893509525398114, 1.8549537338377549, 1.8697864541866875, 1.8245705962938075, 1.850475949536953, 1.8018734798811962, 1.8567156582115296, 1.8674087995438846, 1.8006212635156331, 1.922463507219408, 1.8356590936710702, 1.7919053823058155, 1.8332479717127546, 1.755238635267854, 1.8093551074029581, 1.8497091726714674, 1.76250176341721, 1.781009247444516, 1.7973132287692921, 1.7731247955220795, 1.8249924472494066, 1.77559597232204, 1.8021442628093436]\n"
     ]
    }
   ],
   "source": [
    "durchschnitt_pro_monat = partei_datensatz.groupby('Jahr_Monat')['Sentiment Score'].mean()\n",
    "print(durchschnitt_pro_monat)\n",
    "monatswert = pd.DataFrame(durchschnitt_pro_monat)\n",
    "x = monatswert.index.to_list()\n",
    "y = monatswert[\"Sentiment Score\"].to_list()\n",
    "print(y)"
   ]
  },
  {
   "cell_type": "code",
   "execution_count": 43,
   "metadata": {},
   "outputs": [],
   "source": [
    "# Speichert in neuem Datensatz\n",
    "partei_datensatz.to_csv(\"mit_sentiment_score\")\n",
    "monatswert.to_csv(\"liniendiagramm\")"
   ]
  },
  {
   "cell_type": "code",
   "execution_count": 101,
   "metadata": {},
   "outputs": [
    {
     "data": {
      "image/png": "[encoded data removed]",
      "text/plain": [
       "<Figure size 800x500 with 1 Axes>"
      ]
     },
     "metadata": {},
     "output_type": "display_data"
    }
   ],
   "source": [
    "plt.figure(figsize=(8, 5))\n",
    "x = [-12, -11, -10, -9, -8, -7, -6, -5, -4, -3, -2, -1, \"t=0\", 1, 2, 3, 4, 5, 6, 7, 8, 9, 10, 11, 12]\n",
    "grüne = [1.7613615997189689, 1.739512840868402, 1.7064914696190498, 1.794565508916331, 1.8092225745948174, 1.8031006872743487, 1.7486766778256424, 1.8403483075616633, 1.8136485285880604, 1.8096156500432699, 1.873107736164931, 1.8942900234945357, 2.005437563912231, 1.9033295070780696, 1.9201905222941302, 1.9413752075627713, 1.9540096327046732, 1.909350608521641, 1.9745941951836725, 1.9225376978297504, 1.9071575682463278, 1.948693310482567, 1.8773795924962542, 1.92724829998263, 1.7297788094341133]\n",
    "SPÖ= [1.8428412943386814, 1.825976687879546, 1.8418178169752384, 1.8320441188925192, 1.840364557352042, 1.8676209238583361, 1.8200046939214134, 1.8399489766925472, 1.8337011825717318, 1.927562161898425, 1.909376020683317, 1.9045318466043304, 1.9374284334909715, 1.9397487268893665, 1.9670231239558673, 1.9330562195648866, 1.9532165839021771, 1.9339636088564685, 1.9546080779687762, 1.9505616680658147, 1.9545669522172646, 1.952093231557536, 1.9537355518396529, 1.9306455222051317, 1.9802211072958642]\n",
    "\n",
    "plt.plot(x, y, linestyle='-', color='b', label='FPÖ')\n",
    "plt.plot(x, grüne, linestyle='-', color='g', label='Grüne' )\n",
    "plt.plot(x, SPÖ, linestyle='-', color='r', label='SPÖ' )\n",
    "\n",
    "plt.ylim(1.7, 2.3)\n",
    "\n",
    "\n",
    "\n",
    "# Diagrammbeschriftungen und Titel\n",
    "plt.title('Sentiment Analysis of Austrian Parties', fontsize=14)\n",
    "plt.xlabel('In Months', fontsize=12)\n",
    "plt.ylabel('Sentiment Score \\nMean Value per Month', fontsize=12)\n",
    "plt.axvline(x=\"t=0\", color='black', linestyle='--', linewidth=1, label=\"Swearing-In\")\n",
    "\n",
    "\n",
    "# Gitter und Legende hinzufügen\n",
    "plt.grid(True, linestyle='--', alpha=0.6)\n",
    "plt.legend(fontsize=10)\n",
    "plt.legend(fontsize=10, title=\"Sentiment Score:\\n3 = Positive \\n2 = Neutral \\n1 = Negative\")\n",
    "\n",
    "\n",
    "# Diagramm anzeigen\n",
    "plt.show()"
   ]
  },
  {
   "cell_type": "code",
   "execution_count": null,
   "metadata": {},
   "outputs": [],
   "source": []
  }
 ],
 "metadata": {
  "kernelspec": {
   "display_name": "Python 3 (ipykernel)",
   "language": "python",
   "name": "python3"
  },
  "language_info": {
   "codemirror_mode": {
    "name": "ipython",
    "version": 3
   },
   "file_extension": ".py",
   "mimetype": "text/x-python",
   "name": "python",
   "nbconvert_exporter": "python",
   "pygments_lexer": "ipython3",
   "version": "3.12.4"
  }
 },
 "nbformat": 4,
 "nbformat_minor": 4
}
